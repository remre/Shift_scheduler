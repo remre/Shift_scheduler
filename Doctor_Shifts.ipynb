{
  "nbformat": 4,
  "nbformat_minor": 0,
  "metadata": {
    "colab": {
      "name": "Doctor_Shifts.ipynb",
      "provenance": [],
      "collapsed_sections": [],
      "authorship_tag": "ABX9TyOvpaPX69QKAFt6vFzdltwN",
      "include_colab_link": true
    },
    "kernelspec": {
      "name": "python3",
      "display_name": "Python 3"
    },
    "language_info": {
      "name": "python"
    }
  },
  "cells": [
    {
      "cell_type": "markdown",
      "metadata": {
        "id": "view-in-github",
        "colab_type": "text"
      },
      "source": [
        "<a href=\"https://colab.research.google.com/github/remre/Shift_scheduler/blob/main/Doctor_Shifts.ipynb\" target=\"_parent\"><img src=\"https://colab.research.google.com/assets/colab-badge.svg\" alt=\"Open In Colab\"/></a>"
      ]
    },
    {
      "cell_type": "markdown",
      "source": [
        "# Medicals Shifts Scheduler\n"
      ],
      "metadata": {
        "id": "hv0c91-Z4eVR"
      }
    },
    {
      "cell_type": "markdown",
      "metadata": {
        "id": "vxfR9zS0j0DI"
      },
      "source": [
        "## Motivation\n",
        "This model created to optimize monthly shift schedule of medical doctors in ER.\n",
        "Model highly inspried by Gurobi's own examples and also Gurobi library used to optimize the schedule\n",
        "\n",
        "## Optimization Process\n",
        "\n",
        "In this modeling example, we tackle a multi-objective model where the primary objective is to minimize the number of extra workers required to satisfy shift requirements, and the secondary objective is to minimize the maximum difference in the number of shifts worked between any pair of workers. This secondary objective balances the workload allocated to workers.\n",
        " \n",
        "The hierarchical multi-objective optimization approach will first solve the following model with the primary objective.\n",
        "\n",
        "### Objective Function\n",
        "\n",
        "- **Primary objective:** The objective function is to minimize the number of extra workers allocated. \n",
        "\n",
        "\\begin{equation}\n",
        "\\text{Min} \\quad totSlack\n",
        "\\tag{0}\n",
        "\\end{equation}\n",
        "\n",
        "### Constraints\n",
        "\n",
        "- **Shift requirements:**  All shifts requirements most be satisfied.\n",
        "\n",
        "\\begin{equation}\n",
        "\\sum_{w \\: \\in \\: workers} x(w,s)  +  Slack(s) = \\text{shiftRequirements}(s) \\quad \\forall \\; s \\in \\text{shifts}\n",
        "\\tag{1}\n",
        "\\end{equation}\n",
        "\n",
        "- **Temps:** Compute the total number of extra workers required.\n",
        "\n",
        "\\begin{equation}\n",
        "\\sum_{s \\: \\in \\: \\text{shifts}} Slack(s) =  totSlack \n",
        "\\tag{2}\n",
        "\\end{equation}\n",
        "\n",
        "- **Shifts:**  Compute the total number of shifts for each worker.\n",
        "\n",
        "\\begin{equation}\n",
        "\\sum_{s \\: \\in \\: \\text{shifts}} x(w,s)  = \\text{totShifts}(w) \\quad \\forall \\; w \\in workers\n",
        "\\tag{3}\n",
        "\\end{equation}\n",
        "\n",
        "- **Binary and non-negativity constraints:**\n",
        "\n",
        "$$\n",
        "x(w,s) \\in \\{0, 1 \\}  \\quad \\forall \\; (w,s) \\in availability\n",
        "$$\n",
        "\n",
        "$$\n",
        "Slack(s) \\geq 0 \\quad  \\forall \\; s \\in \\text{shifts}\n",
        "$$\n",
        "\n",
        "$$\n",
        "\\text{totShifts}(w) \\geq 0 \\quad \\forall \\; w \\in workers\n",
        "$$\n",
        "\n",
        "$$\n",
        "totSlack  \\geq 0\n",
        "$$\n",
        "\n",
        "The parameter $Opt(totSlack)$ is set to be equal to the minimum number of extra workers required to satisfy demand. That is, $Opt(totSlack) = totSlack^{*} $, where $totSlack^{*} $ is the optimal value of the variable $totSlack$.\n",
        "\n",
        "For a given relative tolerance of primary objective $relTol$, we now solve the following model where we minimize the secondary objective.\n",
        "\n",
        "\n",
        "### Objective Function\n",
        "\n",
        "- **Secondary objective:** The objective function is to minimize the difference between the maximum number of shifts allocated to a worker, and the minimum number of shifts allocated to a worker. \n",
        "\n",
        "\\begin{equation}\n",
        "\\text{Min} \\quad ( \\text{maxShift} -  \\text{minShift} )\n",
        "\\tag{4}\n",
        "\\end{equation}\n",
        "\n",
        "### Constraints\n",
        "\n",
        "- **Shift requirements:**  All shifts requirements most be satisfied.\n",
        "\n",
        "\\begin{equation}\n",
        "\\sum_{w \\: \\in \\: workers} x(w,s)  +  Slack(s) = \\text{shiftRequirements}(s) \\quad \\forall \\; s \\in \\text{shifts}\n",
        "\\tag{1}\n",
        "\\end{equation}\n",
        "\n",
        "\n",
        "- **Relative tolerance:**  Ensure that the total number of extra workers (totSlack) minimized by the primary objective is satisfied up to a tolerance percentage.\n",
        "\n",
        "\\begin{equation}\n",
        "\\sum_{s \\: \\in \\: shifts} Slack(s) \\leq (1+relTol)*Opt(totSlack)\n",
        "\\tag{5}\n",
        "\\end{equation}\n",
        "\n",
        "- **Shifts:**  Compute the total number of shifts for each worker.\n",
        "\n",
        "\\begin{equation}\n",
        "\\sum_{s \\: \\in \\: \\text{shifts}} x(w,s)  = \\text{totShifts}(w) \\quad \\forall \\; w \\in workers\n",
        "\\tag{3}\n",
        "\\end{equation}\n",
        "\n",
        "- **Minimum shifts:**  Compute the minimum number of shifts allocated to an employed worker. For our problem minimum number of shift per doctor will be 8 in a month\n",
        "\n",
        "\n",
        "\\begin{equation}\n",
        "\\text{minShift} = \\text{Min} \\{\\text{totShifts}(w): \\ w \\; in \\; workers \\}  \n",
        "\\tag{6}\n",
        "\\end{equation}\n",
        "\n",
        "\n",
        "- **Maximum shifts:**  Compute the maximum number of shifts allocated to an employed worker. The maximum number of shift will be constraint to 10 in a month.\n",
        "\n",
        "\\begin{equation}\n",
        "\\text{maxShift} = \\text{Max} \\{\\text{totShifts}(w): \\ w \\; in \\; workers \\}\n",
        "\\tag{7}\n",
        "\\end{equation}\n",
        "\n",
        "- **Day After Rest:** Each med have to day off at least one day after 24 hour shift.  \n",
        "\n",
        "\n",
        "- **Binary and non-negativity constraints:**\n",
        "\n",
        "$$\n",
        "x(w,s) \\in \\{0, 1 \\}  \\quad \\forall \\; (w,s) \\in availability\n",
        "$$\n",
        "\n",
        "$$\n",
        "Slack(s) \\geq 0 \\quad  \\forall \\; s \\in \\text{shifts}\n",
        "$$\n",
        "\n",
        "$$\n",
        "\\text{totShifts}(w) \\geq 0 \\quad   \\forall \\; w \\in workers\n",
        "$$\n",
        "\n",
        "$$\n",
        "\\text{maxShift},  \\text{minShift}   \\geq 0\n",
        "$$\n",
        "\n",
        "This optimization process is done automatically by the Gurobi Python API when using the following method: \n",
        "\n",
        "\"Model.setObjectiveN()\""
      ]
    },
    {
      "cell_type": "markdown",
      "metadata": {
        "id": "rw3R0zfLj0DO"
      },
      "source": [
        "## Python Implementation\n",
        "\n",
        "We now import the Gurobi Python Module. Then, we initialize the data structures with the given data."
      ]
    },
    {
      "cell_type": "code",
      "execution_count": 1,
      "metadata": {
        "id": "qYB3GCNoj0DO",
        "outputId": "c0bbbc13-0fbe-4f3a-8e85-332b113e03f2",
        "colab": {
          "base_uri": "https://localhost:8080/"
        }
      },
      "outputs": [
        {
          "output_type": "stream",
          "name": "stdout",
          "text": [
            "Requirement already satisfied: gurobipy in /usr/local/lib/python3.7/dist-packages (9.5.1)\n"
          ]
        }
      ],
      "source": [
        "%pip install gurobipy"
      ]
    },
    {
      "cell_type": "code",
      "execution_count": 2,
      "metadata": {
        "id": "OI6nGjcsj0DP"
      },
      "outputs": [],
      "source": [
        "# This command imports the Gurobi functions and classes.\n",
        "import gurobipy as gp\n",
        "from gurobipy import GRB\n",
        "# other necessary libraries\n",
        "import pandas as pd\n",
        "from pylab import *\n",
        "import matplotlib\n",
        "import matplotlib.pyplot as plt"
      ]
    },
    {
      "cell_type": "code",
      "execution_count": 3,
      "metadata": {
        "id": "LkvwYsv6j0DS"
      },
      "outputs": [],
      "source": [
        "# # Amount each worker is paid to work one shift.\n",
        "workers, pay = gp.multidict({\n",
        "  \"Dmitri\":   12,\n",
        "  \"Jason\": 10,\n",
        "  \"Marissa\":   8,\n",
        "  \"Ferdinand\":   10,\n",
        "  \"Masallah\":    8,\n",
        "  })"
      ]
    },
    {
      "cell_type": "code",
      "source": [
        "# number of days in February 2022, it can be  changed to any other (30/31)\n",
        "x = range(1,29)\n",
        "Shifts  = []\n",
        "Shifts = [str(i) for i in x]"
      ],
      "metadata": {
        "id": "s6Zt_HTHoWjk"
      },
      "execution_count": 4,
      "outputs": []
    },
    {
      "cell_type": "code",
      "source": [
        "# Number of workers required for each shift\n",
        "S = [1, 2, 2, 1, 1, 1, 2, 2, 2, 2, 1, 1, 1, 2,2, 2, 2,1, 1, 1,2,1,2,2,2,2,1,1,2]\n",
        "\n",
        "shiftRequirements = {s: S[i] for i, s in enumerate(Shifts)}"
      ],
      "metadata": {
        "id": "k-ueUzc0lRNg"
      },
      "execution_count": 5,
      "outputs": []
    },
    {
      "cell_type": "code",
      "source": [
        "# Assume everyone is available give one for avaliability \n",
        "availability = pd.DataFrame(np.ones((len(workers), len(Shifts))), index=workers, columns=Shifts)\n",
        "\n",
        "# Here is the days and meds whose are unavaliable the day that given\n",
        "availability.at['Dmitri','1'] = 0\n",
        "availability.at['Jason','1'] = 0\n",
        "availability.at['Jason','9'] = 0\n",
        "availability.at['Jason','4'] = 0\n",
        "availability.at['Marissa','14'] = 0\n",
        "availability.at['Masallah','1'] = 0\n",
        "availability.at['Masallah','2'] = 0\n",
        "availability.at['Masallah','3'] = 0\n",
        "availability.at['Masallah','4'] = 0\n",
        "availability.at['Dmitri','23'] = 0\n",
        "availability.at['Dmitri','24'] = 0\n",
        "availability.at['Dmitri','22'] = 0\n",
        "availability.at['Dmitri','7'] = 0\n",
        "availability.at['Dmitri','5'] = 0\n",
        "availability.at['Dmitri','6'] = 0\n",
        "\n",
        "\n",
        "# Create availability dictionary to be used in decision variable bounding\n",
        "avail = {(w,s) : availability.loc[w,s] for w in workers for s in Shifts}"
      ],
      "metadata": {
        "id": "D8Q5yLEWeejl"
      },
      "execution_count": 6,
      "outputs": []
    },
    {
      "cell_type": "code",
      "execution_count": 7,
      "metadata": {
        "id": "eXgzJfQtj0DV",
        "colab": {
          "base_uri": "https://localhost:8080/"
        },
        "outputId": "121dd97d-4480-461c-c761-9432d9d0ec7c"
      },
      "outputs": [
        {
          "output_type": "stream",
          "name": "stdout",
          "text": [
            "Restricted license - for non-production use only - expires 2023-10-25\n"
          ]
        }
      ],
      "source": [
        "# Create initial model.\n",
        "m = gp.Model(\"workforce5\")"
      ]
    },
    {
      "cell_type": "markdown",
      "metadata": {
        "id": "sC1zZi1Qj0DX"
      },
      "source": [
        "### Decision Variables\n",
        "\n",
        "$x(w,s) \\in \\{0,1\\}$: This variable equals 1 if worker $w \\in workers$ is assigned to shift $s \\in \\text{shifts}$, \n",
        "and 0 otherwise.\n",
        "This decision variable is defined over the $availability$ set.\n",
        "\n",
        "$Slack(s) \\geq 0$: This variable is the number of extra workers required to satisfy the requirements of shift $s$."
      ]
    },
    {
      "cell_type": "code",
      "execution_count": 8,
      "metadata": {
        "id": "bVHwlypSj0DX"
      },
      "outputs": [],
      "source": [
        "# Initialize assignment decision variables.\n",
        "\n",
        "x = m.addVars(avail.keys(), vtype=GRB.BINARY, name=\"x\")"
      ]
    },
    {
      "cell_type": "code",
      "source": [
        "# New variables: z[w,s] == 1 if worker w works shift s, but not shift s-1\n",
        "z = m.addVars(avail.keys(), vtype=GRB.BINARY, name=\"start\")\n"
      ],
      "metadata": {
        "id": "7S1_cztAzQFr"
      },
      "execution_count": 9,
      "outputs": []
    },
    {
      "cell_type": "code",
      "execution_count": 10,
      "metadata": {
        "id": "YwNiVn0jj0DX"
      },
      "outputs": [],
      "source": [
        "# Slack decision variables determine the number of extra workers required to satisfy the requirements \n",
        "# of each shift\n",
        "slacks = m.addVars(Shifts, name=\"Slack\")\n",
        "# if (x[w, s1], x[w, s2] for w in workers for s1,s2 in zip(Shifts, Shifts[2:]))"
      ]
    },
    {
      "cell_type": "markdown",
      "metadata": {
        "id": "s6XjPEP_j0DY"
      },
      "source": [
        "### Auxiliary Variables\n",
        "Auxiliary variables are derived from the values of the decision variables.\n",
        "\n",
        "$totSlack$: This variable counts the total number of extra workers required to satisfy the demand for shift workers.\n",
        "\n",
        "$\\text{totShifts}(w)$: This variable counts the total number of shifts worked by each worker $w \\in workers$.\n",
        "\n",
        "$\\text{minShift}$: This variable determines the minimum number of shifts allocated to workers. \n",
        "\n",
        "$\\text{maxShift}$: This variable  determines the maximum number of shifts allocated to workers."
      ]
    },
    {
      "cell_type": "code",
      "execution_count": 11,
      "metadata": {
        "id": "rlSSEHiZj0DY"
      },
      "outputs": [],
      "source": [
        "# Auxiliary variable totSlack to represent the total number of extra workers required to satisfy the \n",
        "# requirements of all the shifts.\n",
        "totSlack = m.addVar(name='totSlack')"
      ]
    },
    {
      "cell_type": "code",
      "execution_count": 12,
      "metadata": {
        "id": "YR_L4cumj0DY"
      },
      "outputs": [],
      "source": [
        "# Auxiliary variable totShifts counts the total shifts worked by each employed worker\n",
        "totShifts = m.addVars(workers, name=\"TotShifts\")"
      ]
    },
    {
      "cell_type": "code",
      "execution_count": 13,
      "metadata": {
        "id": "WM3iZ9TVj0DZ"
      },
      "outputs": [],
      "source": [
        "# Constraint: All shifts requirements most be satisfied.\n",
        "\n",
        "# shift_reqmtsz = m.addConstrs((x.sum('*',w,s2,s1)<=2 for w in workers for s1,s2 in zip(Shifts, Shifts[2:])), name='shiftRequirement')\n",
        "shift_reqmts = m.addConstrs((x.sum('*',s) + slacks[s] == shiftRequirements[s] for s in Shifts), name='shiftRequirement')"
      ]
    },
    {
      "cell_type": "code",
      "execution_count": 14,
      "metadata": {
        "id": "tcFt3Uv6j0DZ"
      },
      "outputs": [],
      "source": [
        "# Constraint: set the auxiliary variable (totSlack) equal to the total number of extra workers \n",
        "# required to satisfy shift requirements\n",
        "num_temps = m.addConstr(totSlack == slacks.sum(), name='totSlack')"
      ]
    },
    {
      "cell_type": "markdown",
      "metadata": {
        "id": "z8-1VvLxj0Da"
      },
      "source": [
        "### Constraint\n",
        "\n",
        "$$\\sum_{s \\: \\in \\: shifts} x(w,s) \\; = \\; \\text{totShifts}(w) \\; \\; \\forall \\ w \\; in \\; workers$$"
      ]
    },
    {
      "cell_type": "code",
      "execution_count": 15,
      "metadata": {
        "id": "vJQle_4Nj0Da"
      },
      "outputs": [],
      "source": [
        "# Constraint: compute the total number of shifts for each worker\n",
        "\n",
        "num_shifts = m.addConstrs((totShifts[w] == x.sum(w,'*') for w in workers), name='totShifts')"
      ]
    },
    {
      "cell_type": "code",
      "source": [
        ""
      ],
      "metadata": {
        "id": "aNAmUas3_gca"
      },
      "execution_count": 15,
      "outputs": []
    },
    {
      "cell_type": "code",
      "source": [
        "# # Range of shifts that every workers is required to stay between\n",
        "minShifts = 8\n",
        "maxShifts = 10\n",
        "\n",
        "# If you want to determine number of shifts with respect to fairness here is the solution\n",
        "# minShift = m.addVar(name='minShift')\n",
        "# maxShift = m.addVar(name='maxShift')\n",
        "# m.setObjectiveN(maxShift - minShift, index=1, priority=2, name='Fairness')"
      ],
      "metadata": {
        "id": "Mg9q2L6M-dx8"
      },
      "execution_count": 16,
      "outputs": []
    },
    {
      "cell_type": "code",
      "source": [
        "minShiftsConstr = m.addConstrs(((\n",
        "    x.sum(w,'*') >= minShifts for w in workers)\n",
        "), name='minShifts')\n"
      ],
      "metadata": {
        "id": "3dudSeFOt8gJ"
      },
      "execution_count": 17,
      "outputs": []
    },
    {
      "cell_type": "code",
      "source": [
        "maxShiftsConstr = m.addConstrs(((\n",
        "    x.sum(w,'*') <= maxShifts for w in workers)\n",
        "), name='maxShifts')\n"
      ],
      "metadata": {
        "id": "Sbiy6Mtp1zPh"
      },
      "execution_count": 18,
      "outputs": []
    },
    {
      "cell_type": "code",
      "source": [
        "dayoffcons = m.addConstrs((x[w, s1] + x[w, s2] <= 1 for w in workers for s1,s2 in zip(Shifts, Shifts[1:])), name='ThisisIT!')"
      ],
      "metadata": {
        "id": "2CrMIoYHiVMQ"
      },
      "execution_count": 19,
      "outputs": []
    },
    {
      "cell_type": "code",
      "execution_count": 20,
      "metadata": {
        "id": "z-AvkHbpj0Db"
      },
      "outputs": [],
      "source": [
        "# Set up primary objective.\n",
        "\n",
        "# The setObjectiveN() method of the model object m allows to define multiple objectives.\n",
        "# The first argument is the linear expression defining the most important objective, called primary \n",
        "# objective, in this case it is the minimization of extra workers required to satisfy shift \n",
        "# requirements. \n",
        "# The second argument is the index of the objective function, we set the index of the primary \n",
        "# objective to be equal to 0. \n",
        "# The third argument is the priority of the objective.\n",
        "# The fourth argument is the relative tolerance to degrade this objective when a lower priority\n",
        "# objective is optimized. The fifth argument is the name of this objective.\n",
        "# A hierarchical or lexicographic approach assigns a priority to each objective, and optimizes \n",
        "# for the objectives in decreasing priority order. \n",
        "# For this problem, we have two objectives, and the primary objective has the highest priority \n",
        "# which is equal to 2. \n",
        "# When the secondary objective is minimized, since the relative tolerance is 0.2, we can only \n",
        "# increase the minimum number of extra workers up to 20%. \n",
        "# For example if the minimum number extra workers is 10, then when optimizing the secondary objective \n",
        "# we can have up to 12 extra workers.\n",
        "\n",
        "# here how we can add salarise to our objective as minimum\n",
        "# m.setObjective(gp.quicksum(pay[w]*x[w, s] for w, s in avail.keys()), GRB.MINIMIZE)\n",
        "\n",
        "\n",
        "\n",
        "m.setObjectiveN(totSlack, index=0, priority=2, reltol=0.2, name='TotalSlack')"
      ]
    },
    {
      "cell_type": "code",
      "execution_count": 22,
      "metadata": {
        "id": "S_d5YuRJj0Dc"
      },
      "outputs": [],
      "source": [
        "# Set up secondary objective.\n",
        "\n",
        "# The secondary objective is called fairness and its goal is to balance the workload assigned \n",
        "# to the employed workers. \n",
        "# To balance the workload assigned to the employed workers, we can minimize the difference \n",
        "# between the maximum number of shifts assigned to an employed worker and the minimum number \n",
        "# of shifts assigned to an employed worker.\n",
        "\n"
      ]
    },
    {
      "cell_type": "code",
      "execution_count": 21,
      "metadata": {
        "id": "7DAZddK4j0Dc"
      },
      "outputs": [],
      "source": [
        "# Save model formulation for inspection\n",
        "\n",
        "m.write('workforce.lp')"
      ]
    },
    {
      "cell_type": "code",
      "execution_count": 22,
      "metadata": {
        "id": "g2lPgU_jj0Dc",
        "colab": {
          "base_uri": "https://localhost:8080/"
        },
        "outputId": "c24aadf8-d5f2-4b71-816a-83b8d1897721"
      },
      "outputs": [
        {
          "output_type": "stream",
          "name": "stdout",
          "text": [
            "Gurobi Optimizer version 9.5.1 build v9.5.1rc2 (linux64)\n",
            "Thread count: 1 physical cores, 2 logical processors, using up to 2 threads\n",
            "Optimize a model with 179 rows, 314 columns and 892 nonzeros\n",
            "Model fingerprint: 0x7d9cbcca\n",
            "Variable types: 34 continuous, 280 integer (280 binary)\n",
            "Coefficient statistics:\n",
            "  Matrix range     [1e+00, 1e+00]\n",
            "  Objective range  [1e+00, 1e+00]\n",
            "  Bounds range     [1e+00, 1e+00]\n",
            "  RHS range        [1e+00, 1e+01]\n",
            "\n",
            "---------------------------------------------------------------------------\n",
            "Multi-objectives: starting optimization with 1 objectives ... \n",
            "---------------------------------------------------------------------------\n",
            "---------------------------------------------------------------------------\n",
            "\n",
            "Multi-objectives: optimize objective 1 (TotalSlack) ...\n",
            "---------------------------------------------------------------------------\n",
            "\n",
            "Optimize a model with 179 rows, 314 columns and 892 nonzeros\n",
            "Model fingerprint: 0x227c1ffc\n",
            "Variable types: 34 continuous, 280 integer (280 binary)\n",
            "Coefficient statistics:\n",
            "  Matrix range     [1e+00, 1e+00]\n",
            "  Objective range  [1e+00, 1e+00]\n",
            "  Bounds range     [1e+00, 1e+00]\n",
            "  RHS range        [1e+00, 1e+01]\n",
            "Found heuristic solution: objective 2.0000000\n",
            "Presolve removed 6 rows and 174 columns\n",
            "Presolve time: 0.01s\n",
            "Presolved: 173 rows, 140 columns, 690 nonzeros\n",
            "Variable types: 0 continuous, 140 integer (140 binary)\n",
            "Found heuristic solution: objective 0.0000000\n",
            "\n",
            "Root relaxation: cutoff, 0 iterations, 0.00 seconds (0.00 work units)\n",
            "\n",
            "Explored 1 nodes (0 simplex iterations) in 0.18 seconds (0.00 work units)\n",
            "Thread count was 2 (of 2 available processors)\n",
            "\n",
            "Solution count 2: 0 2 \n",
            "\n",
            "Optimal solution found (tolerance 1.00e-04)\n",
            "Best objective 0.000000000000e+00, best bound 0.000000000000e+00, gap 0.0000%\n",
            "\n",
            "---------------------------------------------------------------------------\n",
            "Multi-objectives: solved in 0.22 seconds (0.00 work units), solution count 2\n",
            "\n"
          ]
        }
      ],
      "source": [
        "# Optimize\n",
        "# This method runs the optimization engine to solve the MIP problem in the model object m\n",
        "m.optimize()"
      ]
    },
    {
      "cell_type": "code",
      "execution_count": 23,
      "metadata": {
        "id": "uAB5mec2j0Dc"
      },
      "outputs": [],
      "source": [
        "# The Status attribute  provides current optimization status of the model object m\n",
        "# In workforce model, we check if the model is infeasible or unbounded and report this situation\n",
        "status = m.Status\n",
        "if status == GRB.Status.INF_OR_UNBD or status == GRB.Status.INFEASIBLE  or status == GRB.Status.UNBOUNDED:\n",
        "    print('The model cannot be solved because it is infeasible or unbounded')\n",
        "    sys.exit(0)\n",
        "# If the optimization status of the model is not optimal for some other reason, we report that \n",
        "# situation.\n",
        "if status != GRB.Status.OPTIMAL:\n",
        "    print('Optimization was stopped with status ' + str(status))\n",
        "    sys.exit(0)"
      ]
    },
    {
      "cell_type": "code",
      "execution_count": 24,
      "metadata": {
        "id": "zWsDO8jwj0Dd",
        "colab": {
          "base_uri": "https://localhost:8080/",
          "height": 630
        },
        "outputId": "c7d97b18-65b4-4664-8ea9-eb4f1152a0aa"
      },
      "outputs": [
        {
          "output_type": "stream",
          "name": "stdout",
          "text": [
            "                    KPI Value\n",
            "0  Total slack required   0.0\n",
            "--------------------------------------------------\n",
            "Shifts\n",
            "      Worker  Number of shifts\n",
            "0     Dmitri               9.0\n",
            "1      Jason               8.0\n",
            "2    Marissa               8.0\n",
            "3  Ferdinand              10.0\n",
            "4   Masallah               8.0\n"
          ]
        },
        {
          "output_type": "display_data",
          "data": {
            "text/plain": [
              "<Figure size 432x288 with 1 Axes>"
            ],
            "image/png": "[encoded data removed]"
          },
          "metadata": {
            "needs_background": "light"
          }
        },
        {
          "output_type": "stream",
          "name": "stdout",
          "text": [
            "--------------------------------------------------\n",
            "Assigments\n",
            "Symbols: '-': not working, '*': working\n",
            "      worker  1  2  3  4  5  6  7  8  9  ... 19 20 21 22 23 24 25 26 27 28\n",
            "0     Dmitri  -  *  -  *  -  -  -  *  -  ...  -  -  -  -  *  -  *  -  *  -\n",
            "1      Jason  -  -  *  -  *  -  *  -  -  ...  -  -  *  -  *  -  -  *  -  -\n",
            "2    Marissa  -  -  *  -  -  *  -  -  *  ...  -  -  *  -  -  *  -  -  -  -\n",
            "3  Ferdinand  *  -  -  -  -  -  -  *  -  ...  *  -  -  *  -  -  *  -  -  *\n",
            "4   Masallah  -  *  -  -  -  -  *  -  *  ...  -  *  -  -  -  *  -  *  -  -\n",
            "\n",
            "[5 rows x 29 columns]\n"
          ]
        }
      ],
      "source": [
        "\n",
        "# Print total slack and the number of shifts worked for each worker\n",
        "# The KPIs for this optimization number is the number of extra worked required to satisfy \n",
        "# demand and the number of shifts that each employed worker is working.\n",
        "solution = {}\n",
        "shifts_sol = {}\n",
        "solution['Total slack required'] = str(totSlack.X)\n",
        "assignments_all = {}\n",
        "gant={}\n",
        "\n",
        "assignments = dict()\n",
        "for [w, s] in avail:\n",
        "    if x[w, s].x == 1:\n",
        "        if w in assignments:\n",
        "            assignments[w].append(s)\n",
        "        else:\n",
        "            assignments[w] = [s]\n",
        "\n",
        "\n",
        "\n",
        "print(pd.DataFrame.from_records(list(solution.items()), columns=['KPI', 'Value']))\n",
        "print('-'*50)\n",
        "\n",
        "for w in workers:\n",
        "    shifts_sol[w]=totShifts[w].X\n",
        "    assignments_all[w]=assignments.get(w, [])\n",
        "\n",
        "print('Shifts')\n",
        "print(pd.DataFrame.from_records(list(shifts_sol.items()), columns=['Worker', 'Number of shifts']))\n",
        "    \n",
        "y_pos = np.arange(len(shifts_sol.keys())) \n",
        "plt.bar(y_pos,shifts_sol.values() , align='center')\n",
        "plt.xticks(y_pos, shifts_sol.keys())\n",
        "plt.show()\n",
        "\n",
        "print('-'*50)\n",
        "for w in assignments_all:\n",
        "    gant[w] = [w]\n",
        "    for d in Shifts:\n",
        "        gant[w].append('*' if d in assignments_all[w] else '-')\n",
        "\n",
        "print('Assigments')\n",
        "print('Symbols: \\'-\\': not working, \\'*\\': working')\n",
        "pd.set_option('display.width', 1000)\n",
        "df = pd.DataFrame.from_records(list(gant.values()), columns=['worker']+Shifts)\n",
        "print(pd.DataFrame.from_records(list(gant.values()), columns=['worker']+Shifts))"
      ]
    },
    {
      "cell_type": "code",
      "source": [
        "assignments_all"
      ],
      "metadata": {
        "colab": {
          "base_uri": "https://localhost:8080/"
        },
        "id": "6IKWzd9_ofNd",
        "outputId": "4cf5c5de-b87b-4e24-c1af-91e97f67b9d4"
      },
      "execution_count": 25,
      "outputs": [
        {
          "output_type": "execute_result",
          "data": {
            "text/plain": [
              "{'Dmitri': ['2', '4', '8', '10', '14', '16', '23', '25', '27'],\n",
              " 'Ferdinand': ['1', '8', '10', '13', '15', '17', '19', '22', '25', '28'],\n",
              " 'Jason': ['3', '5', '7', '11', '16', '21', '23', '26'],\n",
              " 'Marissa': ['3', '6', '9', '12', '15', '17', '21', '24'],\n",
              " 'Masallah': ['2', '7', '9', '14', '18', '20', '24', '26']}"
            ]
          },
          "metadata": {},
          "execution_count": 25
        }
      ]
    },
    {
      "cell_type": "code",
      "source": [
        "df"
      ],
      "metadata": {
        "colab": {
          "base_uri": "https://localhost:8080/",
          "height": 236
        },
        "id": "T96ZmHiB_Hx6",
        "outputId": "9d98a3a9-b432-410c-9927-b304a1a072ed"
      },
      "execution_count": 26,
      "outputs": [
        {
          "output_type": "execute_result",
          "data": {
            "text/plain": [
              "      worker  1  2  3  4  5  6  7  8  9  ... 19 20 21 22 23 24 25 26 27 28\n",
              "0     Dmitri  -  *  -  *  -  -  -  *  -  ...  -  -  -  -  *  -  *  -  *  -\n",
              "1      Jason  -  -  *  -  *  -  *  -  -  ...  -  -  *  -  *  -  -  *  -  -\n",
              "2    Marissa  -  -  *  -  -  *  -  -  *  ...  -  -  *  -  -  *  -  -  -  -\n",
              "3  Ferdinand  *  -  -  -  -  -  -  *  -  ...  *  -  -  *  -  -  *  -  -  *\n",
              "4   Masallah  -  *  -  -  -  -  *  -  *  ...  -  *  -  -  -  *  -  *  -  -\n",
              "\n",
              "[5 rows x 29 columns]"
            ],
            "text/html": [
              "\n",
              "  <div id=\"df-ebf9ea43-c2e6-4df2-b1f8-c8d2b065abeb\">\n",
              "    <div class=\"colab-df-container\">\n",
              "      <div>\n",
              "<style scoped>\n",
              "    .dataframe tbody tr th:only-of-type {\n",
              "        vertical-align: middle;\n",
              "    }\n",
              "\n",
              "    .dataframe tbody tr th {\n",
              "        vertical-align: top;\n",
              "    }\n",
              "\n",
              "    .dataframe thead th {\n",
              "        text-align: right;\n",
              "    }\n",
              "</style>\n",
              "<table border=\"1\" class=\"dataframe\">\n",
              "  <thead>\n",
              "    <tr style=\"text-align: right;\">\n",
              "      <th></th>\n",
              "      <th>worker</th>\n",
              "      <th>1</th>\n",
              "      <th>2</th>\n",
              "      <th>3</th>\n",
              "      <th>4</th>\n",
              "      <th>5</th>\n",
              "      <th>6</th>\n",
              "      <th>7</th>\n",
              "      <th>8</th>\n",
              "      <th>9</th>\n",
              "      <th>...</th>\n",
              "      <th>19</th>\n",
              "      <th>20</th>\n",
              "      <th>21</th>\n",
              "      <th>22</th>\n",
              "      <th>23</th>\n",
              "      <th>24</th>\n",
              "      <th>25</th>\n",
              "      <th>26</th>\n",
              "      <th>27</th>\n",
              "      <th>28</th>\n",
              "    </tr>\n",
              "  </thead>\n",
              "  <tbody>\n",
              "    <tr>\n",
              "      <th>0</th>\n",
              "      <td>Dmitri</td>\n",
              "      <td>-</td>\n",
              "      <td>*</td>\n",
              "      <td>-</td>\n",
              "      <td>*</td>\n",
              "      <td>-</td>\n",
              "      <td>-</td>\n",
              "      <td>-</td>\n",
              "      <td>*</td>\n",
              "      <td>-</td>\n",
              "      <td>...</td>\n",
              "      <td>-</td>\n",
              "      <td>-</td>\n",
              "      <td>-</td>\n",
              "      <td>-</td>\n",
              "      <td>*</td>\n",
              "      <td>-</td>\n",
              "      <td>*</td>\n",
              "      <td>-</td>\n",
              "      <td>*</td>\n",
              "      <td>-</td>\n",
              "    </tr>\n",
              "    <tr>\n",
              "      <th>1</th>\n",
              "      <td>Jason</td>\n",
              "      <td>-</td>\n",
              "      <td>-</td>\n",
              "      <td>*</td>\n",
              "      <td>-</td>\n",
              "      <td>*</td>\n",
              "      <td>-</td>\n",
              "      <td>*</td>\n",
              "      <td>-</td>\n",
              "      <td>-</td>\n",
              "      <td>...</td>\n",
              "      <td>-</td>\n",
              "      <td>-</td>\n",
              "      <td>*</td>\n",
              "      <td>-</td>\n",
              "      <td>*</td>\n",
              "      <td>-</td>\n",
              "      <td>-</td>\n",
              "      <td>*</td>\n",
              "      <td>-</td>\n",
              "      <td>-</td>\n",
              "    </tr>\n",
              "    <tr>\n",
              "      <th>2</th>\n",
              "      <td>Marissa</td>\n",
              "      <td>-</td>\n",
              "      <td>-</td>\n",
              "      <td>*</td>\n",
              "      <td>-</td>\n",
              "      <td>-</td>\n",
              "      <td>*</td>\n",
              "      <td>-</td>\n",
              "      <td>-</td>\n",
              "      <td>*</td>\n",
              "      <td>...</td>\n",
              "      <td>-</td>\n",
              "      <td>-</td>\n",
              "      <td>*</td>\n",
              "      <td>-</td>\n",
              "      <td>-</td>\n",
              "      <td>*</td>\n",
              "      <td>-</td>\n",
              "      <td>-</td>\n",
              "      <td>-</td>\n",
              "      <td>-</td>\n",
              "    </tr>\n",
              "    <tr>\n",
              "      <th>3</th>\n",
              "      <td>Ferdinand</td>\n",
              "      <td>*</td>\n",
              "      <td>-</td>\n",
              "      <td>-</td>\n",
              "      <td>-</td>\n",
              "      <td>-</td>\n",
              "      <td>-</td>\n",
              "      <td>-</td>\n",
              "      <td>*</td>\n",
              "      <td>-</td>\n",
              "      <td>...</td>\n",
              "      <td>*</td>\n",
              "      <td>-</td>\n",
              "      <td>-</td>\n",
              "      <td>*</td>\n",
              "      <td>-</td>\n",
              "      <td>-</td>\n",
              "      <td>*</td>\n",
              "      <td>-</td>\n",
              "      <td>-</td>\n",
              "      <td>*</td>\n",
              "    </tr>\n",
              "    <tr>\n",
              "      <th>4</th>\n",
              "      <td>Masallah</td>\n",
              "      <td>-</td>\n",
              "      <td>*</td>\n",
              "      <td>-</td>\n",
              "      <td>-</td>\n",
              "      <td>-</td>\n",
              "      <td>-</td>\n",
              "      <td>*</td>\n",
              "      <td>-</td>\n",
              "      <td>*</td>\n",
              "      <td>...</td>\n",
              "      <td>-</td>\n",
              "      <td>*</td>\n",
              "      <td>-</td>\n",
              "      <td>-</td>\n",
              "      <td>-</td>\n",
              "      <td>*</td>\n",
              "      <td>-</td>\n",
              "      <td>*</td>\n",
              "      <td>-</td>\n",
              "      <td>-</td>\n",
              "    </tr>\n",
              "  </tbody>\n",
              "</table>\n",
              "<p>5 rows × 29 columns</p>\n",
              "</div>\n",
              "      <button class=\"colab-df-convert\" onclick=\"convertToInteractive('df-ebf9ea43-c2e6-4df2-b1f8-c8d2b065abeb')\"\n",
              "              title=\"Convert this dataframe to an interactive table.\"\n",
              "              style=\"display:none;\">\n",
              "        \n",
              "  <svg xmlns=\"http://www.w3.org/2000/svg\" height=\"24px\"viewBox=\"0 0 24 24\"\n",
              "       width=\"24px\">\n",
              "    <path d=\"M0 0h24v24H0V0z\" fill=\"none\"/>\n",
              "    <path d=\"M18.56 5.44l.94 2.06.94-2.06 2.06-.94-2.06-.94-.94-2.06-.94 2.06-2.06.94zm-11 1L8.5 8.5l.94-2.06 2.06-.94-2.06-.94L8.5 2.5l-.94 2.06-2.06.94zm10 10l.94 2.06.94-2.06 2.06-.94-2.06-.94-.94-2.06-.94 2.06-2.06.94z\"/><path d=\"M17.41 7.96l-1.37-1.37c-.4-.4-.92-.59-1.43-.59-.52 0-1.04.2-1.43.59L10.3 9.45l-7.72 7.72c-.78.78-.78 2.05 0 2.83L4 21.41c.39.39.9.59 1.41.59.51 0 1.02-.2 1.41-.59l7.78-7.78 2.81-2.81c.8-.78.8-2.07 0-2.86zM5.41 20L4 18.59l7.72-7.72 1.47 1.35L5.41 20z\"/>\n",
              "  </svg>\n",
              "      </button>\n",
              "      \n",
              "  <style>\n",
              "    .colab-df-container {\n",
              "      display:flex;\n",
              "      flex-wrap:wrap;\n",
              "      gap: 12px;\n",
              "    }\n",
              "\n",
              "    .colab-df-convert {\n",
              "      background-color: #E8F0FE;\n",
              "      border: none;\n",
              "      border-radius: 50%;\n",
              "      cursor: pointer;\n",
              "      display: none;\n",
              "      fill: #1967D2;\n",
              "      height: 32px;\n",
              "      padding: 0 0 0 0;\n",
              "      width: 32px;\n",
              "    }\n",
              "\n",
              "    .colab-df-convert:hover {\n",
              "      background-color: #E2EBFA;\n",
              "      box-shadow: 0px 1px 2px rgba(60, 64, 67, 0.3), 0px 1px 3px 1px rgba(60, 64, 67, 0.15);\n",
              "      fill: #174EA6;\n",
              "    }\n",
              "\n",
              "    [theme=dark] .colab-df-convert {\n",
              "      background-color: #3B4455;\n",
              "      fill: #D2E3FC;\n",
              "    }\n",
              "\n",
              "    [theme=dark] .colab-df-convert:hover {\n",
              "      background-color: #434B5C;\n",
              "      box-shadow: 0px 1px 3px 1px rgba(0, 0, 0, 0.15);\n",
              "      filter: drop-shadow(0px 1px 2px rgba(0, 0, 0, 0.3));\n",
              "      fill: #FFFFFF;\n",
              "    }\n",
              "  </style>\n",
              "\n",
              "      <script>\n",
              "        const buttonEl =\n",
              "          document.querySelector('#df-ebf9ea43-c2e6-4df2-b1f8-c8d2b065abeb button.colab-df-convert');\n",
              "        buttonEl.style.display =\n",
              "          google.colab.kernel.accessAllowed ? 'block' : 'none';\n",
              "\n",
              "        async function convertToInteractive(key) {\n",
              "          const element = document.querySelector('#df-ebf9ea43-c2e6-4df2-b1f8-c8d2b065abeb');\n",
              "          const dataTable =\n",
              "            await google.colab.kernel.invokeFunction('convertToInteractive',\n",
              "                                                     [key], {});\n",
              "          if (!dataTable) return;\n",
              "\n",
              "          const docLinkHtml = 'Like what you see? Visit the ' +\n",
              "            '<a target=\"_blank\" href=https://colab.research.google.com/notebooks/data_table.ipynb>data table notebook</a>'\n",
              "            + ' to learn more about interactive tables.';\n",
              "          element.innerHTML = '';\n",
              "          dataTable['output_type'] = 'display_data';\n",
              "          await google.colab.output.renderOutput(dataTable, element);\n",
              "          const docLink = document.createElement('div');\n",
              "          docLink.innerHTML = docLinkHtml;\n",
              "          element.appendChild(docLink);\n",
              "        }\n",
              "      </script>\n",
              "    </div>\n",
              "  </div>\n",
              "  "
            ]
          },
          "metadata": {},
          "execution_count": 26
        }
      ]
    },
    {
      "cell_type": "code",
      "source": [
        "df.to_csv('first.csv',index= False)"
      ],
      "metadata": {
        "id": "rUxaCmF6_Lca"
      },
      "execution_count": null,
      "outputs": []
    }
  ]
}